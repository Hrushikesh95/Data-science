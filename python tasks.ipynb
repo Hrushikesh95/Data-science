{
 "cells": [
  {
   "cell_type": "code",
   "execution_count": 1,
   "metadata": {},
   "outputs": [
    {
     "name": "stdout",
     "output_type": "stream",
     "text": [
      "hello world\n"
     ]
    }
   ],
   "source": [
    "print(\"hello world\")"
   ]
  },
  {
   "cell_type": "code",
   "execution_count": null,
   "metadata": {},
   "outputs": [],
   "source": []
  },
  {
   "cell_type": "code",
   "execution_count": 2,
   "metadata": {},
   "outputs": [
    {
     "ename": "TypeError",
     "evalue": "'int' object is not subscriptable",
     "output_type": "error",
     "traceback": [
      "\u001b[1;31m---------------------------------------------------------------------------\u001b[0m",
      "\u001b[1;31mTypeError\u001b[0m                                 Traceback (most recent call last)",
      "\u001b[1;32m<ipython-input-2-ca101c964f01>\u001b[0m in \u001b[0;36m<module>\u001b[1;34m\u001b[0m\n\u001b[0;32m      1\u001b[0m \u001b[0ml2\u001b[0m \u001b[1;33m=\u001b[0m \u001b[1;33m[\u001b[0m\u001b[1;36m1\u001b[0m\u001b[1;33m,\u001b[0m\u001b[1;36m2\u001b[0m\u001b[1;33m,\u001b[0m\u001b[1;33m[\u001b[0m\u001b[1;36m3\u001b[0m\u001b[1;33m,\u001b[0m\u001b[1;36m4\u001b[0m\u001b[1;33m,\u001b[0m\u001b[1;36m5\u001b[0m\u001b[1;33m,\u001b[0m\u001b[1;36m6\u001b[0m\u001b[1;33m]\u001b[0m\u001b[1;33m,\u001b[0m\u001b[1;36m9\u001b[0m\u001b[1;33m]\u001b[0m\u001b[1;33m\u001b[0m\u001b[1;33m\u001b[0m\u001b[0m\n\u001b[1;32m----> 2\u001b[1;33m \u001b[0ml2\u001b[0m\u001b[1;33m[\u001b[0m\u001b[1;36m1\u001b[0m\u001b[1;33m]\u001b[0m\u001b[1;33m[\u001b[0m\u001b[1;36m4\u001b[0m\u001b[1;33m]\u001b[0m\u001b[1;33m.\u001b[0m\u001b[0minsert\u001b[0m\u001b[1;33m(\u001b[0m\u001b[1;36m4\u001b[0m\u001b[1;33m,\u001b[0m\u001b[1;33m[\u001b[0m\u001b[1;36m7\u001b[0m\u001b[1;33m,\u001b[0m\u001b[1;36m8\u001b[0m\u001b[1;33m]\u001b[0m\u001b[1;33m)\u001b[0m\u001b[1;33m\u001b[0m\u001b[1;33m\u001b[0m\u001b[0m\n\u001b[0m\u001b[0;32m      3\u001b[0m \u001b[0mprint\u001b[0m\u001b[1;33m(\u001b[0m\u001b[0ml2\u001b[0m\u001b[1;33m)\u001b[0m\u001b[1;33m\u001b[0m\u001b[1;33m\u001b[0m\u001b[0m\n",
      "\u001b[1;31mTypeError\u001b[0m: 'int' object is not subscriptable"
     ]
    }
   ],
   "source": [
    "l2 = [1,2,[3,4,5,6],9]\n",
    "l2[1][4].insert(4,[7,8])\n",
    "print(l2)"
   ]
  },
  {
   "cell_type": "code",
   "execution_count": 15,
   "metadata": {},
   "outputs": [
    {
     "name": "stdout",
     "output_type": "stream",
     "text": [
      "[10, 20, [30, 40, 70, [50, 60], 80], 90, 100]\n"
     ]
    }
   ],
   "source": [
    "l1 = [10, 20, [30, 40, [50, 60], 80], 90, 100]\n",
    "l1[2].insert(2,70)\n",
    "print(l1)"
   ]
  },
  {
   "cell_type": "code",
   "execution_count": 4,
   "metadata": {},
   "outputs": [
    {
     "name": "stdout",
     "output_type": "stream",
     "text": [
      "[10, 20, [30, 40, [50, 60, 70], 80], 90, 100]\n"
     ]
    }
   ],
   "source": [
    "l1 = [10, 20, [30, 40, [50, 60], 80], 90, 100]\n",
    "l1[2].insert(2,70)\n",
    "print(l1)"
   ]
  },
  {
   "cell_type": "code",
   "execution_count": 5,
   "metadata": {},
   "outputs": [
    {
     "name": "stdout",
     "output_type": "stream",
     "text": [
      "[1, 2, [3, 4, 5, 6, [7, 8]], 9]\n"
     ]
    }
   ],
   "source": [
    "l2 = [1,2,[3,4,5,6],9]\n",
    "l2[2].insert(4,[7,8])\n",
    "print(l2)"
   ]
  },
  {
   "cell_type": "code",
   "execution_count": 9,
   "metadata": {},
   "outputs": [
    {
     "data": {
      "text/plain": [
       "dict"
      ]
     },
     "execution_count": 9,
     "metadata": {},
     "output_type": "execute_result"
    }
   ],
   "source": [
    "#new task 5\n",
    "dict1 = { \n",
    "   \"april_batch\":{ \n",
    "      \"student\":{ \n",
    "         \"name\":\"Mike\",\n",
    "         \"marks\":{ \n",
    "            \"python\":80,\n",
    "            \"maths\":70\n",
    "         }\n",
    "      }\n",
    "   }\n",
    "}\n",
    "\n",
    "dict1\n",
    "type(dict1)"
   ]
  },
  {
   "cell_type": "code",
   "execution_count": 10,
   "metadata": {},
   "outputs": [
    {
     "data": {
      "text/plain": [
       "'Mike'"
      ]
     },
     "execution_count": 10,
     "metadata": {},
     "output_type": "execute_result"
    }
   ],
   "source": [
    "dict1[\"april_batch\"][\"student\"][\"name\"]"
   ]
  },
  {
   "cell_type": "code",
   "execution_count": 11,
   "metadata": {},
   "outputs": [
    {
     "data": {
      "text/plain": [
       "80"
      ]
     },
     "execution_count": 11,
     "metadata": {},
     "output_type": "execute_result"
    }
   ],
   "source": [
    "dict1[\"april_batch\"][\"student\"][\"marks\"][\"python\"]"
   ]
  },
  {
   "cell_type": "code",
   "execution_count": 16,
   "metadata": {},
   "outputs": [
    {
     "data": {
      "text/plain": [
       "{'april_batch': {'student': {'name': 'Hrushikesh',\n",
       "   'marks': {'python': 80, 'maths': 70}}}}"
      ]
     },
     "execution_count": 16,
     "metadata": {},
     "output_type": "execute_result"
    }
   ],
   "source": [
    "dict1[\"april_batch\"][\"student\"][\"name\"]=\"Hrushikesh\"\n",
    "dict1"
   ]
  },
  {
   "cell_type": "code",
   "execution_count": 2,
   "metadata": {},
   "outputs": [
    {
     "data": {
      "text/plain": [
       "{'april_batch': {'student': {'name': 'Mike',\n",
       "   'marks': {'python': 80, 'maths': 70}}}}"
      ]
     },
     "execution_count": 2,
     "metadata": {},
     "output_type": "execute_result"
    }
   ],
   "source": [
    "dict1 = { \n",
    "   \"april_batch\":{ \n",
    "      \"student\":{ \n",
    "         \"name\":\"Mike\",\n",
    "         \"marks\":{ \n",
    "            \"python\":80,\n",
    "            \"maths\":70\n",
    "         }\n",
    "      }\n",
    "   }\n",
    "}\n",
    "dict1"
   ]
  },
  {
   "cell_type": "code",
   "execution_count": 4,
   "metadata": {},
   "outputs": [
    {
     "data": {
      "text/plain": [
       "{'april_batch': {'student': {'name': 'Mike',\n",
       "   'marks': {'python': 80, 'maths': 70, 'DL': 80}}}}"
      ]
     },
     "execution_count": 4,
     "metadata": {},
     "output_type": "execute_result"
    }
   ],
   "source": [
    "dict1[\"april_batch\"][\"student\"][\"marks\"][\"DL\"]=80\n",
    "dict1"
   ]
  },
  {
   "cell_type": "code",
   "execution_count": 7,
   "metadata": {},
   "outputs": [
    {
     "name": "stdout",
     "output_type": "stream",
     "text": [
      "Accessing a element using get:\n",
      "Royal\n",
      "Challengers\n",
      "Benglore\n"
     ]
    }
   ],
   "source": [
    "Dict = {1: 'Royal', 'name': 'Challengers', 3: 'Benglore'}\n",
    "\n",
    "print(\"Accessing a element using get:\")\n",
    "print(Dict.get(1))\n",
    "print(Dict.get(\"name\"))\n",
    "print(Dict.get(3))"
   ]
  },
  {
   "cell_type": "code",
   "execution_count": 2,
   "metadata": {},
   "outputs": [
    {
     "name": "stdout",
     "output_type": "stream",
     "text": [
      "{1: 'Benglore'}\n",
      "Benglore\n",
      "RCB\n"
     ]
    }
   ],
   "source": [
    "Dict = {'Dict1': {1: 'Benglore'},\n",
    "        'Dict2': {'Name': 'RCB'}}\n",
    "\n",
    "print(Dict['Dict1'])\n",
    "print(Dict['Dict1'][1])\n",
    "print(Dict['Dict2']['Name'])"
   ]
  },
  {
   "cell_type": "code",
   "execution_count": 21,
   "metadata": {},
   "outputs": [
    {
     "name": "stdout",
     "output_type": "stream",
     "text": [
      "Initial Dictionary: \n",
      "{5: 'Welcome', 6: 'To', 7: 'netzwerk', 'A': {1: 'to', 2: 'For', 3: 'rcb'}, 'B': {1: 'RCB', 2: 'Life'}}\n",
      "\n",
      "Deleting a specific key: \n",
      "{5: 'Welcome', 7: 'netzwerk', 'A': {1: 'to', 2: 'For', 3: 'rcb'}, 'B': {1: 'RCB', 2: 'Life'}}\n"
     ]
    }
   ],
   "source": [
    "Dict = { 5 : 'Welcome', 6 : 'To', 7 : 'netzwerk',\n",
    "        'A' : {1 : 'to', 2 : 'For', 3 : 'rcb'},\n",
    "        'B' : {1 : 'RCB', 2 : 'Life'}}\n",
    "print(\"Initial Dictionary: \")\n",
    "print(Dict)\n",
    "del Dict[6]\n",
    "print(\"\\nDeleting a specific key: \")\n",
    "print(Dict)"
   ]
  },
  {
   "cell_type": "code",
   "execution_count": 27,
   "metadata": {},
   "outputs": [
    {
     "name": "stdout",
     "output_type": "stream",
     "text": [
      "{1: 'RCB', 'name': 'For', 3: 'Life'}\n",
      "\n",
      "Dictionary after deletion: {'name': 'For', 3: 'Life'}\n",
      "poped key is: RCB\n"
     ]
    }
   ],
   "source": [
    "Dict = {1: 'RCB', 'name': 'For', 3: 'Life'}\n",
    "print(Dict)\n",
    "pop_ele = Dict.pop(1)\n",
    "print('\\nDictionary after deletion: ' + str(Dict))\n",
    "print('poped key is: ' + str(pop_ele))"
   ]
  },
  {
   "cell_type": "code",
   "execution_count": 29,
   "metadata": {},
   "outputs": [
    {
     "name": "stdout",
     "output_type": "stream",
     "text": [
      "\n",
      "List with Numbers: \n",
      "[1, 2, 4, 4, 3, 3, 3, 6, 5]\n",
      "\n",
      "List with Mixed Values: \n",
      "[1, 2, 'Geeks', 4, 'For', 6, 'Geeks']\n"
     ]
    }
   ],
   "source": [
    "#lists\n",
    "List = [1, 2, 4, 4, 3, 3, 3, 6, 5]\n",
    "print(\"\\nList with Numbers: \")\n",
    "print(List)\n",
    "\n",
    "List = [1, 2, 'Geeks', 4, 'For', 6, 'Geeks']\n",
    "print(\"\\nList with Mixed Values: \")\n",
    "print(List)"
   ]
  },
  {
   "cell_type": "code",
   "execution_count": 35,
   "metadata": {},
   "outputs": [
    {
     "name": "stdout",
     "output_type": "stream",
     "text": [
      "0\n",
      "3\n",
      "<class 'list'>\n"
     ]
    }
   ],
   "source": [
    "List1 = []\n",
    "print(len(List1))\n",
    "List2 = [10, 20, 14]\n",
    "print(len(List2))\n",
    "print(type(List2))"
   ]
  },
  {
   "cell_type": "code",
   "execution_count": 36,
   "metadata": {},
   "outputs": [
    {
     "name": "stdout",
     "output_type": "stream",
     "text": [
      "Initial blank List: \n",
      "[]\n",
      "\n",
      "List after Addition of Three elements: \n",
      "[1, 2, 4]\n"
     ]
    }
   ],
   "source": [
    "List = []\n",
    "print(\"Initial blank List: \")\n",
    "print(List)\n",
    "List.append(1)\n",
    "List.append(2)\n",
    "List.append(4)\n",
    "print(\"\\nList after Addition of Three elements: \")\n",
    "print(List)"
   ]
  },
  {
   "cell_type": "code",
   "execution_count": 2,
   "metadata": {},
   "outputs": [
    {
     "name": "stdout",
     "output_type": "stream",
     "text": [
      "Initial List: \n",
      "[1, 2, 3, 4]\n",
      "\n",
      "List after Insert Operation: \n",
      "['Netzwerk', 1, 2, 3, 12, 4]\n"
     ]
    }
   ],
   "source": [
    "List = [1,2,3,4]\n",
    "print(\"Initial List: \")\n",
    "print(List)\n",
    "List.insert(3, 12)\n",
    "List.insert(0, 'Netzwerk')\n",
    "print(\"\\nList after Insert Operation: \")\n",
    "print(List)"
   ]
  },
  {
   "cell_type": "code",
   "execution_count": null,
   "metadata": {},
   "outputs": [],
   "source": [
    "#tuples\n",
    "t=(0,1,2,3)\n",
    "t_add=t+(4,5,6)\n",
    "print(t_add)"
   ]
  },
  {
   "cell_type": "code",
   "execution_count": null,
   "metadata": {},
   "outputs": [],
   "source": [
    "t=(1,2,3)\n",
    "t1=list(t)\n",
    "print(t1)"
   ]
  },
  {
   "cell_type": "code",
   "execution_count": null,
   "metadata": {},
   "outputs": [],
   "source": [
    "t1.insert(2,5)\n",
    "print(t1)"
   ]
  },
  {
   "cell_type": "code",
   "execution_count": 6,
   "metadata": {},
   "outputs": [
    {
     "name": "stdout",
     "output_type": "stream",
     "text": [
      "{'banana', 'google', 'microsoft', 'cherry'}\n"
     ]
    }
   ],
   "source": [
    "#sets\n",
    "x = {\"apple\", \"banana\", \"cherry\"}\n",
    "y = {\"google\", \"microsoft\", \"apple\"}\n",
    "\n",
    "z = x.symmetric_difference(y) \n",
    "\n",
    "print(z)"
   ]
  },
  {
   "cell_type": "code",
   "execution_count": 7,
   "metadata": {},
   "outputs": [
    {
     "name": "stdout",
     "output_type": "stream",
     "text": [
      "{'banana', 'cherry'}\n"
     ]
    }
   ],
   "source": [
    "x = {\"apple\", \"banana\", \"cherry\"}\n",
    "y = {\"google\", \"microsoft\", \"apple\"}\n",
    "\n",
    "z = x.difference(y) \n",
    "\n",
    "print(z)"
   ]
  },
  {
   "cell_type": "code",
   "execution_count": 1,
   "metadata": {},
   "outputs": [
    {
     "name": "stdout",
     "output_type": "stream",
     "text": [
      "Enter your value=12\n"
     ]
    },
    {
     "ename": "TypeError",
     "evalue": "can only concatenate str (not \"int\") to str",
     "output_type": "error",
     "traceback": [
      "\u001b[1;31m---------------------------------------------------------------------------\u001b[0m",
      "\u001b[1;31mTypeError\u001b[0m                                 Traceback (most recent call last)",
      "\u001b[1;32m<ipython-input-1-9cef79004d2e>\u001b[0m in \u001b[0;36m<module>\u001b[1;34m\u001b[0m\n\u001b[0;32m      1\u001b[0m \u001b[0mnum1\u001b[0m\u001b[1;33m=\u001b[0m\u001b[0mint\u001b[0m\u001b[1;33m(\u001b[0m\u001b[0minput\u001b[0m\u001b[1;33m(\u001b[0m\u001b[1;34m\"Enter your value=\"\u001b[0m\u001b[1;33m)\u001b[0m\u001b[1;33m)\u001b[0m\u001b[1;33m\u001b[0m\u001b[1;33m\u001b[0m\u001b[0m\n\u001b[1;32m----> 2\u001b[1;33m \u001b[0mprint\u001b[0m \u001b[1;33m(\u001b[0m\u001b[1;34m\"num1=\"\u001b[0m\u001b[1;33m+\u001b[0m\u001b[0mnum1\u001b[0m\u001b[1;33m)\u001b[0m\u001b[1;33m\u001b[0m\u001b[1;33m\u001b[0m\u001b[0m\n\u001b[0m\u001b[0;32m      3\u001b[0m \u001b[0mnum2\u001b[0m\u001b[1;33m=\u001b[0m\u001b[0mint\u001b[0m\u001b[1;33m(\u001b[0m\u001b[0minput\u001b[0m \u001b[1;33m(\u001b[0m\u001b[1;34m\"\\nEnter your value=\"\u001b[0m\u001b[1;33m)\u001b[0m\u001b[1;33m)\u001b[0m\u001b[1;33m\u001b[0m\u001b[1;33m\u001b[0m\u001b[0m\n\u001b[0;32m      4\u001b[0m \u001b[0mprint\u001b[0m \u001b[1;33m(\u001b[0m\u001b[1;34m\"num2=\"\u001b[0m\u001b[1;33m+\u001b[0m\u001b[0mnum2\u001b[0m\u001b[1;33m)\u001b[0m\u001b[1;33m\u001b[0m\u001b[1;33m\u001b[0m\u001b[0m\n",
      "\u001b[1;31mTypeError\u001b[0m: can only concatenate str (not \"int\") to str"
     ]
    }
   ],
   "source": [
    "num1=int(input(\"Enter your value=\"))\n",
    "print (\"num1=\"+num1)\n",
    "num2=int(input (\"\\nEnter your value=\"))\n",
    "print (\"num2=\"+num2)"
   ]
  },
  {
   "cell_type": "code",
   "execution_count": null,
   "metadata": {},
   "outputs": [],
   "source": [
    "num1=int(input(\"Enter your value=\"))\n",
    "print (num1)\n",
    "num2=int(input (\"\\nEnter your value=\"))\n",
    "print (num2)"
   ]
  },
  {
   "cell_type": "code",
   "execution_count": null,
   "metadata": {},
   "outputs": [],
   "source": [
    "num1=input(\"Enter your value=\")\n",
    "print (\"num1=\"+num1)\n",
    "num2=input (\"\\nEnter your value=\")\n",
    "print (\"num2=\"+num2)"
   ]
  },
  {
   "cell_type": "code",
   "execution_count": 2,
   "metadata": {},
   "outputs": [
    {
     "name": "stdout",
     "output_type": "stream",
     "text": [
      "Your first number\n",
      "12\n",
      "your second number\n",
      "56\n",
      "choose your option : 1.addition,2.subtraction,3.multiplication,4.divsion\n",
      "3\n",
      "672\n"
     ]
    }
   ],
   "source": [
    "print(\"Your first number\")\n",
    "num1=int(input())\n",
    "print(\"your second number\")\n",
    "num2=int(input())\n",
    "print(\"choose your option : 1.addition,2.subtraction,3.multiplication,4.divsion\")\n",
    "d=int(input())\n",
    "if d==1:\n",
    "    c=num1+num2\n",
    "    print(c)\n",
    "elif d==2:\n",
    "    c=num1-num2\n",
    "    print(c)\n",
    "elif d==3:\n",
    "    c=num1*num2\n",
    "    print(c)\n",
    "elif d==4:\n",
    "    c=num1%num2\n",
    "    print(c)   \n",
    "else:\n",
    "    print(\"out of order\")\n",
    "\n",
    "    \n",
    "    \n",
    "    \n"
   ]
  },
  {
   "cell_type": "code",
   "execution_count": 3,
   "metadata": {},
   "outputs": [
    {
     "name": "stdout",
     "output_type": "stream",
     "text": [
      "Your first number\n",
      "54\n",
      "your second number\n",
      "34\n",
      "choose your option : 1.addition,2.subtraction,3.multiplication,4.divsion\n",
      "4\n",
      "20\n"
     ]
    }
   ],
   "source": [
    "print(\"Your first number\")\n",
    "a=int(input())\n",
    "print(\"your second number\")\n",
    "b=int(input())\n",
    "print(\"choose your option : 1.addition,2.subtraction,3.multiplication,4.divsion\")\n",
    "d=int(input())\n",
    "if d==1:\n",
    "    c=a+b\n",
    "    print(c)\n",
    "elif d==2:\n",
    "    c=a-b\n",
    "    print(c)\n",
    "elif d==3:\n",
    "    c=a*b\n",
    "    print(c)\n",
    "elif d==4:\n",
    "    c=a%b\n",
    "    print(c)   \n",
    "else:\n",
    "    print(\"out of order\")"
   ]
  },
  {
   "cell_type": "code",
   "execution_count": 14,
   "metadata": {},
   "outputs": [
    {
     "name": "stdout",
     "output_type": "stream",
     "text": [
      "10\n",
      "9\n",
      "8\n",
      "7\n",
      "6\n",
      "5\n",
      "4\n",
      "3\n",
      "2\n",
      "1\n"
     ]
    }
   ],
   "source": [
    "#loops\n",
    "count= 10\n",
    "while(count > 0):\n",
    "    print(count)\n",
    "    count = count -1"
   ]
  },
  {
   "cell_type": "code",
   "execution_count": 16,
   "metadata": {},
   "outputs": [
    {
     "name": "stdout",
     "output_type": "stream",
     "text": [
      "Kohli\n",
      "Abd\n",
      "Max\n"
     ]
    }
   ],
   "source": [
    "#for loop for tuple\n",
    "RCB = (\"Kohli\", \"Abd\", \"Max\")\n",
    "for x in RCB:\n",
    "    print(x) "
   ]
  },
  {
   "cell_type": "code",
   "execution_count": 29,
   "metadata": {},
   "outputs": [
    {
     "name": "stdout",
     "output_type": "stream",
     "text": [
      "0\n",
      "1\n",
      "2\n",
      "3\n",
      "4\n",
      "5\n",
      "Finally finished!\n"
     ]
    }
   ],
   "source": [
    "\n",
    "for x in range(6):\n",
    "  print(x)\n",
    "else:\n",
    "  print(\"Finally finished!\") "
   ]
  },
  {
   "cell_type": "code",
   "execution_count": 18,
   "metadata": {},
   "outputs": [
    {
     "name": "stdout",
     "output_type": "stream",
     "text": [
      "True\n",
      "34\n",
      "40\n",
      "male\n",
      "abc\n"
     ]
    }
   ],
   "source": [
    "#for loop for sets\n",
    "set1 = {\"abc\", 34, True, 40, \"male\"} \n",
    "for x in set1:\n",
    "    print(x)"
   ]
  },
  {
   "cell_type": "code",
   "execution_count": 22,
   "metadata": {},
   "outputs": [
    {
     "name": "stdout",
     "output_type": "stream",
     "text": [
      "Virat\n",
      "Abd\n",
      "Cup\n"
     ]
    }
   ],
   "source": [
    "RCB = {\n",
    "  \"Virat\": \"Dravid\",\n",
    "  \"Abd\": \"Kumble\",\n",
    "  \"Cup\": 2021\n",
    "}\n",
    "for x in RCB:\n",
    "    print(x)"
   ]
  },
  {
   "cell_type": "code",
   "execution_count": 23,
   "metadata": {},
   "outputs": [
    {
     "name": "stdout",
     "output_type": "stream",
     "text": [
      "Dravid\n",
      "Kumble\n",
      "2021\n"
     ]
    }
   ],
   "source": [
    "RCB = {\n",
    "  \"Virat\": \"Dravid\",\n",
    "  \"Abd\": \"Kumble\",\n",
    "  \"Cup\": 2021\n",
    "}\n",
    "for x in RCB:\n",
    "    print(RCB[x])"
   ]
  },
  {
   "cell_type": "code",
   "execution_count": 26,
   "metadata": {},
   "outputs": [
    {
     "name": "stdout",
     "output_type": "stream",
     "text": [
      "Virat Dravid\n",
      "Abd Kumble\n",
      "Cup 2021\n"
     ]
    }
   ],
   "source": [
    "for x,y in RCB.items():\n",
    "    print(x,y)"
   ]
  },
  {
   "cell_type": "code",
   "execution_count": 25,
   "metadata": {},
   "outputs": [
    {
     "name": "stdout",
     "output_type": "stream",
     "text": [
      "Dravid\n",
      "Kumble\n",
      "2021\n"
     ]
    }
   ],
   "source": [
    "for x in RCB.values():\n",
    "    print(x)"
   ]
  },
  {
   "cell_type": "code",
   "execution_count": 5,
   "metadata": {},
   "outputs": [
    {
     "name": "stdout",
     "output_type": "stream",
     "text": [
      "393\n"
     ]
    }
   ],
   "source": [
    "from functools import reduce\n",
    "Num = [5, 8, 10, 20, 50, 100,200]\n",
    "sum = reduce((lambda x, y: x + y), Num) #previous two elements are added to the next element and this goes on till the end of the list like\n",
    "print (sum)"
   ]
  },
  {
   "cell_type": "code",
   "execution_count": 14,
   "metadata": {},
   "outputs": [
    {
     "name": "stdout",
     "output_type": "stream",
     "text": [
      "The maximum element of the list is : 6\n"
     ]
    }
   ],
   "source": [
    "import functools\n",
    "lis = [ 1 , 3, 5, 6, 2, ]\n",
    " # using reduce to compute maximum element from list\n",
    "print (\"The maximum element of the list is : \",end=\"\")\n",
    "print (reduce(lambda a,b : a if a > b else b,lis))"
   ]
  },
  {
   "cell_type": "code",
   "execution_count": 2,
   "metadata": {},
   "outputs": [
    {
     "name": "stdout",
     "output_type": "stream",
     "text": [
      " type: <class 'enumerate'>\n",
      "[(0, 'eat'), (1, 'sleep'), (2, 'repeat')]\n",
      "[(9, 'N'), (10, 'e'), (11, 't'), (12, 'z'), (13, 'w'), (14, 'e'), (15, 'r'), (16, 'k')]\n"
     ]
    }
   ],
   "source": [
    "l1 = [\"eat\",\"sleep\",\"repeat\"]\n",
    "s1 = \"Netzwerk\"\n",
    " \n",
    "# creating enumerate objects\n",
    "obj1 = enumerate(l1)\n",
    "obj2 = enumerate(s1)\n",
    " \n",
    "print (\" type:\",type(obj1))\n",
    "print (list(enumerate(l1)))\n",
    " \n",
    "# changing start index to 2 from 0\n",
    "print (list(enumerate(s1,9)))"
   ]
  },
  {
   "cell_type": "code",
   "execution_count": 38,
   "metadata": {},
   "outputs": [
    {
     "name": "stdout",
     "output_type": "stream",
     "text": [
      "original string is       hello      \n",
      "modified string is hello \n"
     ]
    }
   ],
   "source": [
    "def remove(string):\n",
    "    return string.replace(\"       hello     \", \"hello\")\n",
    "      \n",
    "# Driver Program\n",
    "string =  \"       hello      \"\n",
    "print (\"original string is\"+ string)\n",
    "print(\"modified string is \"+(remove(string)))"
   ]
  },
  {
   "cell_type": "code",
   "execution_count": 7,
   "metadata": {},
   "outputs": [
    {
     "name": "stdout",
     "output_type": "stream",
     "text": [
      "Hello\n"
     ]
    }
   ],
   "source": [
    "string = \"       Hello       \"\n",
    "\n",
    "while string[0] == \" \":\n",
    "    string = string[1:]\n",
    "    \n",
    "while string[-1] == \" \":\n",
    "    string = string[:-1]\n",
    "    \n",
    "print(string)"
   ]
  },
  {
   "cell_type": "code",
   "execution_count": 20,
   "metadata": {},
   "outputs": [
    {
     "name": "stdout",
     "output_type": "stream",
     "text": [
      "15\n"
     ]
    }
   ],
   "source": [
    "str2=\"     Hello     \"\n",
    "char=0\n",
    "for i in str2:\n",
    "    char=char+1\n",
    "print(char)"
   ]
  },
  {
   "cell_type": "code",
   "execution_count": 17,
   "metadata": {},
   "outputs": [
    {
     "name": "stdout",
     "output_type": "stream",
     "text": [
      "16\n"
     ]
    }
   ],
   "source": [
    "str1= \"My name is navya\"\n",
    "char=0\n",
    "for i in str1:\n",
    "    char=char+1\n",
    "print(char)    "
   ]
  },
  {
   "cell_type": "code",
   "execution_count": 6,
   "metadata": {},
   "outputs": [
    {
     "data": {
      "text/plain": [
       "[3, 3, 3, 3]"
      ]
     },
     "execution_count": 6,
     "metadata": {},
     "output_type": "execute_result"
    }
   ],
   "source": [
    "def multipliers():\n",
    "    return[lambda x:i*x for i in range(4)]\n",
    "[ m(1)for m in multipliers()]"
   ]
  },
  {
   "cell_type": "code",
   "execution_count": 58,
   "metadata": {},
   "outputs": [
    {
     "name": "stdout",
     "output_type": "stream",
     "text": [
      "[0, 2, 4, 6, 8, 10, 12, 14, 16, 18, 20, 22, 24]\n"
     ]
    }
   ],
   "source": [
    "\n",
    "list=[x for x in range(25) if x%2 == 0]\n",
    "print (list)"
   ]
  },
  {
   "cell_type": "code",
   "execution_count": 26,
   "metadata": {},
   "outputs": [
    {
     "name": "stdout",
     "output_type": "stream",
     "text": [
      "5 8\n",
      "13\n"
     ]
    }
   ],
   "source": [
    "def firstDigit(n):\n",
    "    while n >= 10:\n",
    "        n = n / 10;\n",
    "    return int(n)\n",
    "\n",
    "def lastDigit (n):\n",
    "    return(n % 10)\n",
    "n=54698;\n",
    "\n",
    "print (firstDigit (n), end = \" \")\n",
    "print (lastDigit (n))\n",
    "sum=(firstDigit(n) + lastDigit(n))\n",
    "print(sum)"
   ]
  },
  {
   "cell_type": "code",
   "execution_count": 59,
   "metadata": {},
   "outputs": [
    {
     "name": "stdout",
     "output_type": "stream",
     "text": [
      "Please Enter any Number: 12643\n",
      "\n",
      "Reverse of entered number is = 34621\n"
     ]
    }
   ],
   "source": [
    "Number = int(input(\"Please Enter any Number: \"))\n",
    "Reverse = 0\n",
    "while(Number > 0):\n",
    "    Reminder = Number %10\n",
    "    Reverse = (Reverse *10) + Reminder\n",
    "    Number = Number //10\n",
    "\n",
    "print(\"\\nReverse of entered number is = %d\" %Reverse)"
   ]
  },
  {
   "cell_type": "code",
   "execution_count": 41,
   "metadata": {},
   "outputs": [
    {
     "name": "stdout",
     "output_type": "stream",
     "text": [
      "Please Enter the Length of a Triangle: 45\n",
      "Please Enter the Width of a Triangle: 45\n",
      "The Area of a Rectangle using 45.0 and 45.0  =  2025.0\n",
      "The Perimeter of Rectangle using 45.0 and 45.0  =  180.0\n",
      " area is greater then perimeter\n"
     ]
    }
   ],
   "source": [
    "length = float(input('Please Enter the Length of a Triangle: '))\n",
    "width = float(input('Please Enter the Width of a Triangle: '))\n",
    "\n",
    "# calculate the area\n",
    "area = length * width\n",
    "perimeter= (length * 2 + width * 2)\n",
    "\n",
    "print(\"The Area of a Rectangle using\", length, \"and\", width, \" = \", area)\n",
    "print(\"The Perimeter of Rectangle using\", length, \"and\", width, \" = \", perimeter)\n",
    "\n",
    "if area > perimeter:\n",
    "    print(\" area is greater then perimeter\")\n",
    "    \n",
    "elif area == perimeter:\n",
    "    print(\"area is equal to perimeter\")\n",
    "    \n",
    "else: \n",
    "    print(\"perimeter is greater\")\n",
    "   "
   ]
  },
  {
   "cell_type": "code",
   "execution_count": 58,
   "metadata": {},
   "outputs": [
    {
     "name": "stdout",
     "output_type": "stream",
     "text": [
      "Valid\n"
     ]
    }
   ],
   "source": [
    "def Valid(a, b, c):\n",
    "  \n",
    "    # Check condition\n",
    "    if ((a + b + c == 180) and a != 0 and b != 0 and c != 0):\n",
    "        return True\n",
    "    else:\n",
    "        return False\n",
    "    \n",
    "if __name__ == \"__main__\":\n",
    "    a = 60\n",
    "    b = 40\n",
    "    c = 80\n",
    "    if (Valid(a, b, c)):\n",
    "        print(\"Valid\")\n",
    "    else:\n",
    "        print(\"Invalid\")"
   ]
  },
  {
   "cell_type": "code",
   "execution_count": 52,
   "metadata": {},
   "outputs": [
    {
     "name": "stdout",
     "output_type": "stream",
     "text": [
      "14\n"
     ]
    }
   ],
   "source": [
    "a = 10\n",
    "b = 14\n",
    "c = 12\n",
    "print(max(a, b, c))"
   ]
  },
  {
   "cell_type": "code",
   "execution_count": 53,
   "metadata": {},
   "outputs": [
    {
     "name": "stdout",
     "output_type": "stream",
     "text": [
      "14\n"
     ]
    }
   ],
   "source": [
    "def maximum(a, b, c):\n",
    "  \n",
    "    if (a >= b) and (a >= c):\n",
    "        largest = a\n",
    "  \n",
    "    elif (b >= a) and (b >= c):\n",
    "        largest = b\n",
    "    else:\n",
    "        largest = c\n",
    "          \n",
    "    return largest\n",
    "  \n",
    "a = 10\n",
    "b = 14\n",
    "c = 12\n",
    "print(maximum(a, b, c))"
   ]
  }
 ],
 "metadata": {
  "kernelspec": {
   "display_name": "Python 3",
   "language": "python",
   "name": "python3"
  },
  "language_info": {
   "codemirror_mode": {
    "name": "ipython",
    "version": 3
   },
   "file_extension": ".py",
   "mimetype": "text/x-python",
   "name": "python",
   "nbconvert_exporter": "python",
   "pygments_lexer": "ipython3",
   "version": "3.8.5"
  }
 },
 "nbformat": 4,
 "nbformat_minor": 4
}
